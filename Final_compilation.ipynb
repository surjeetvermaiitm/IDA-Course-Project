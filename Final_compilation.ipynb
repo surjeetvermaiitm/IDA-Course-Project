{
 "cells": [
  {
   "cell_type": "code",
   "execution_count": 130,
   "metadata": {},
   "outputs": [],
   "source": [
    "import pandas as pd\n",
    "x=pd.read_csv('train_x.csv')"
   ]
  },
  {
   "cell_type": "code",
   "execution_count": 131,
   "metadata": {},
   "outputs": [],
   "source": [
    "y=pd.read_csv('train_y.csv')\n",
    "#y['Label'].fillna(0,inplace=True)"
   ]
  },
  {
   "cell_type": "code",
   "execution_count": 31,
   "metadata": {},
   "outputs": [
    {
     "data": {
      "text/html": [
       "<div>\n",
       "<style scoped>\n",
       "    .dataframe tbody tr th:only-of-type {\n",
       "        vertical-align: middle;\n",
       "    }\n",
       "\n",
       "    .dataframe tbody tr th {\n",
       "        vertical-align: top;\n",
       "    }\n",
       "\n",
       "    .dataframe thead th {\n",
       "        text-align: right;\n",
       "    }\n",
       "</style>\n",
       "<table border=\"1\" class=\"dataframe\">\n",
       "  <thead>\n",
       "    <tr style=\"text-align: right;\">\n",
       "      <th></th>\n",
       "      <th>ID</th>\n",
       "      <th>Label</th>\n",
       "    </tr>\n",
       "  </thead>\n",
       "  <tbody>\n",
       "    <tr>\n",
       "      <th>0</th>\n",
       "      <td>1</td>\n",
       "      <td>0.0</td>\n",
       "    </tr>\n",
       "    <tr>\n",
       "      <th>1</th>\n",
       "      <td>2</td>\n",
       "      <td>0.0</td>\n",
       "    </tr>\n",
       "    <tr>\n",
       "      <th>2</th>\n",
       "      <td>3</td>\n",
       "      <td>0.0</td>\n",
       "    </tr>\n",
       "    <tr>\n",
       "      <th>3</th>\n",
       "      <td>4</td>\n",
       "      <td>0.0</td>\n",
       "    </tr>\n",
       "    <tr>\n",
       "      <th>4</th>\n",
       "      <td>5</td>\n",
       "      <td>0.0</td>\n",
       "    </tr>\n",
       "    <tr>\n",
       "      <th>...</th>\n",
       "      <td>...</td>\n",
       "      <td>...</td>\n",
       "    </tr>\n",
       "    <tr>\n",
       "      <th>79995</th>\n",
       "      <td>79996</td>\n",
       "      <td>0.0</td>\n",
       "    </tr>\n",
       "    <tr>\n",
       "      <th>79996</th>\n",
       "      <td>79997</td>\n",
       "      <td>0.0</td>\n",
       "    </tr>\n",
       "    <tr>\n",
       "      <th>79997</th>\n",
       "      <td>79998</td>\n",
       "      <td>0.0</td>\n",
       "    </tr>\n",
       "    <tr>\n",
       "      <th>79998</th>\n",
       "      <td>79999</td>\n",
       "      <td>0.0</td>\n",
       "    </tr>\n",
       "    <tr>\n",
       "      <th>79999</th>\n",
       "      <td>80000</td>\n",
       "      <td>0.0</td>\n",
       "    </tr>\n",
       "  </tbody>\n",
       "</table>\n",
       "<p>80000 rows × 2 columns</p>\n",
       "</div>"
      ],
      "text/plain": [
       "          ID  Label\n",
       "0          1    0.0\n",
       "1          2    0.0\n",
       "2          3    0.0\n",
       "3          4    0.0\n",
       "4          5    0.0\n",
       "...      ...    ...\n",
       "79995  79996    0.0\n",
       "79996  79997    0.0\n",
       "79997  79998    0.0\n",
       "79998  79999    0.0\n",
       "79999  80000    0.0\n",
       "\n",
       "[80000 rows x 2 columns]"
      ]
     },
     "execution_count": 31,
     "metadata": {},
     "output_type": "execute_result"
    }
   ],
   "source": [
    "y"
   ]
  },
  {
   "cell_type": "code",
   "execution_count": 4,
   "metadata": {},
   "outputs": [
    {
     "data": {
      "image/png": "[encoded data removed]",
      "text/plain": [
       "<Figure size 432x288 with 1 Axes>"
      ]
     },
     "metadata": {
      "needs_background": "light"
     },
     "output_type": "display_data"
    }
   ],
   "source": [
    "import matplotlib.pyplot as plt\n",
    "plt.scatter(x['Expense'],x['Score5'])\n",
    "plt.xlabel('Expense')\n",
    "plt.ylabel('Score5')\n",
    "plt.show()"
   ]
  },
  {
   "cell_type": "markdown",
   "metadata": {},
   "source": [
    "Variable Expense and score5 shows linear relation and follows the realtion Score5=Expense*0.483146+2580\n",
    "I am filling NA values using this relation"
   ]
  },
  {
   "cell_type": "code",
   "execution_count": 132,
   "metadata": {},
   "outputs": [],
   "source": [
    "x['Score5'].fillna(x['Expense']*0.483146+2580,inplace=True)  \n",
    "x['Expense'].fillna((x['Score5']-2580)/0.483146,inplace=True)  "
   ]
  },
  {
   "cell_type": "code",
   "execution_count": 6,
   "metadata": {},
   "outputs": [
    {
     "data": {
      "image/png": "[encoded data removed]",
      "text/plain": [
       "<Figure size 432x288 with 1 Axes>"
      ]
     },
     "metadata": {
      "needs_background": "light"
     },
     "output_type": "display_data"
    }
   ],
   "source": [
    "plt.scatter(x['Age'],x['Score2'])\n",
    "plt.xlabel('Age')\n",
    "plt.ylabel('Score2')\n",
    "plt.show()"
   ]
  },
  {
   "cell_type": "markdown",
   "metadata": {},
   "source": [
    "Score 2 and age also shows a relation so using this relation to fill missing values of age"
   ]
  },
  {
   "cell_type": "code",
   "execution_count": 133,
   "metadata": {},
   "outputs": [],
   "source": [
    "x['Age'].fillna(x['Score2']/194.9,inplace=True)\n"
   ]
  },
  {
   "cell_type": "code",
   "execution_count": 134,
   "metadata": {},
   "outputs": [
    {
     "data": {
      "image/png": "[encoded data removed]",
      "text/plain": [
       "<Figure size 432x288 with 1 Axes>"
      ]
     },
     "metadata": {
      "needs_background": "light"
     },
     "output_type": "display_data"
    }
   ],
   "source": [
    "x['Age'].fillna(0,inplace=True)\n",
    "x['Age']=x['Age'].astype('int')\n",
    "plt.scatter(x['Age'],x['Score2'])\n",
    "plt.xlabel('Age')\n",
    "plt.ylabel('Score2')\n",
    "plt.show()"
   ]
  },
  {
   "cell_type": "markdown",
   "metadata": {},
   "source": [
    "Filling all the other numerical values with Median"
   ]
  },
  {
   "cell_type": "code",
   "execution_count": 135,
   "metadata": {},
   "outputs": [],
   "source": [
    "numerical=['Expense','Income','Age','Score1','Score2',\"Score3\",'Score4','Score5']\n",
    "for i in numerical:\n",
    "    med = x[i].median()\n",
    "    x[i].fillna(-9999,inplace=True)"
   ]
  },
  {
   "cell_type": "code",
   "execution_count": 10,
   "metadata": {},
   "outputs": [
    {
     "data": {
      "text/plain": [
       "ID                    0\n",
       "Expense               0\n",
       "Income                0\n",
       "Loan type          2011\n",
       "Occupation type    1859\n",
       "Age                   0\n",
       "Score1                0\n",
       "Score2                0\n",
       "Score3                0\n",
       "Score4                0\n",
       "Score5                0\n",
       "dtype: int64"
      ]
     },
     "execution_count": 10,
     "metadata": {},
     "output_type": "execute_result"
    }
   ],
   "source": [
    "x.isna().sum()"
   ]
  },
  {
   "cell_type": "code",
   "execution_count": null,
   "metadata": {},
   "outputs": [],
   "source": [
    "x.to_csv('train_cleaned.csv')"
   ]
  },
  {
   "cell_type": "code",
   "execution_count": 136,
   "metadata": {},
   "outputs": [],
   "source": [
    "import numpy as np\n",
    "#x['Occupation type'].fillna(x['Occupation type'].apply(lambda v: np.random.choice(['X','Y','Z'])),inplace=True)\n",
    "df2=pd.get_dummies(x['Occupation type'], prefix='Occupation')\n",
    "df3=pd.get_dummies(x['Loan type'], prefix='Loan')\n",
    "x = pd.concat([x,df2,df3],axis=1)"
   ]
  },
  {
   "cell_type": "code",
   "execution_count": null,
   "metadata": {},
   "outputs": [],
   "source": [
    "cat_cols = ['Loan type','Occupation type']\n",
    "import category_encoders as ce\n",
    "target_enc = ce.CatBoostEncoder(cols = cat_cols)\n",
    "target_enc.fit(x[cat_cols],y['Label'])\n",
    "train_enc = target_enc.transform(x[cat_cols])\n",
    "#test_enc = target_enc.transform(x[cat_cols])\n",
    "\n",
    "x = x.drop(cat_cols,axis=1)\n",
    "x = pd.concat([x,train_enc],axis=1)\n"
   ]
  },
  {
   "cell_type": "code",
   "execution_count": 137,
   "metadata": {},
   "outputs": [],
   "source": [
    "x['Label']=y['Label']\n",
    "x.dropna(inplace=True)\n",
    "y=x['Label']\n",
    "x.drop(['Label'], axis = 1,inplace=True)\n",
    "from sklearn.model_selection import train_test_split\n",
    "from sklearn.ensemble import RandomForestClassifier\n",
    "from sklearn.model_selection import cross_val_score\n",
    "from sklearn.model_selection import RepeatedStratifiedKFold"
   ]
  },
  {
   "cell_type": "code",
   "execution_count": 116,
   "metadata": {},
   "outputs": [
    {
     "data": {
      "text/html": [
       "<div>\n",
       "<style scoped>\n",
       "    .dataframe tbody tr th:only-of-type {\n",
       "        vertical-align: middle;\n",
       "    }\n",
       "\n",
       "    .dataframe tbody tr th {\n",
       "        vertical-align: top;\n",
       "    }\n",
       "\n",
       "    .dataframe thead th {\n",
       "        text-align: right;\n",
       "    }\n",
       "</style>\n",
       "<table border=\"1\" class=\"dataframe\">\n",
       "  <thead>\n",
       "    <tr style=\"text-align: right;\">\n",
       "      <th></th>\n",
       "      <th>Expense</th>\n",
       "      <th>Income</th>\n",
       "      <th>Loan type</th>\n",
       "      <th>Occupation type</th>\n",
       "      <th>Age</th>\n",
       "      <th>Score1</th>\n",
       "      <th>Score2</th>\n",
       "      <th>Score3</th>\n",
       "      <th>Score4</th>\n",
       "      <th>Score5</th>\n",
       "      <th>Occupation_X</th>\n",
       "      <th>Occupation_Y</th>\n",
       "      <th>Occupation_Z</th>\n",
       "      <th>Loan_A</th>\n",
       "      <th>Loan_B</th>\n",
       "    </tr>\n",
       "  </thead>\n",
       "  <tbody>\n",
       "    <tr>\n",
       "      <th>0</th>\n",
       "      <td>1830.943788</td>\n",
       "      <td>14767.28013</td>\n",
       "      <td>B</td>\n",
       "      <td>Y</td>\n",
       "      <td>1</td>\n",
       "      <td>0.016885</td>\n",
       "      <td>205.196182</td>\n",
       "      <td>22.521523</td>\n",
       "      <td>600.911200</td>\n",
       "      <td>3464.613291</td>\n",
       "      <td>0</td>\n",
       "      <td>1</td>\n",
       "      <td>0</td>\n",
       "      <td>0</td>\n",
       "      <td>1</td>\n",
       "    </tr>\n",
       "    <tr>\n",
       "      <th>1</th>\n",
       "      <td>1645.302546</td>\n",
       "      <td>15272.26775</td>\n",
       "      <td>B</td>\n",
       "      <td>Y</td>\n",
       "      <td>0</td>\n",
       "      <td>0.240375</td>\n",
       "      <td>194.266317</td>\n",
       "      <td>5.349117</td>\n",
       "      <td>600.888816</td>\n",
       "      <td>3374.921455</td>\n",
       "      <td>0</td>\n",
       "      <td>1</td>\n",
       "      <td>0</td>\n",
       "      <td>0</td>\n",
       "      <td>1</td>\n",
       "    </tr>\n",
       "    <tr>\n",
       "      <th>2</th>\n",
       "      <td>1555.026392</td>\n",
       "      <td>17482.49734</td>\n",
       "      <td>A</td>\n",
       "      <td>Y</td>\n",
       "      <td>0</td>\n",
       "      <td>0.213921</td>\n",
       "      <td>183.529871</td>\n",
       "      <td>-1.054954</td>\n",
       "      <td>598.596944</td>\n",
       "      <td>3331.304886</td>\n",
       "      <td>0</td>\n",
       "      <td>1</td>\n",
       "      <td>0</td>\n",
       "      <td>1</td>\n",
       "      <td>0</td>\n",
       "    </tr>\n",
       "    <tr>\n",
       "      <th>3</th>\n",
       "      <td>1681.222341</td>\n",
       "      <td>16257.66493</td>\n",
       "      <td>A</td>\n",
       "      <td>Y</td>\n",
       "      <td>0</td>\n",
       "      <td>0.303909</td>\n",
       "      <td>191.228965</td>\n",
       "      <td>6.971750</td>\n",
       "      <td>602.447203</td>\n",
       "      <td>3392.275849</td>\n",
       "      <td>0</td>\n",
       "      <td>1</td>\n",
       "      <td>0</td>\n",
       "      <td>1</td>\n",
       "      <td>0</td>\n",
       "    </tr>\n",
       "    <tr>\n",
       "      <th>4</th>\n",
       "      <td>1777.648916</td>\n",
       "      <td>16316.29914</td>\n",
       "      <td>B</td>\n",
       "      <td>X</td>\n",
       "      <td>1</td>\n",
       "      <td>-9999.000000</td>\n",
       "      <td>224.074728</td>\n",
       "      <td>11.218489</td>\n",
       "      <td>605.947340</td>\n",
       "      <td>3438.864083</td>\n",
       "      <td>1</td>\n",
       "      <td>0</td>\n",
       "      <td>0</td>\n",
       "      <td>0</td>\n",
       "      <td>1</td>\n",
       "    </tr>\n",
       "    <tr>\n",
       "      <th>...</th>\n",
       "      <td>...</td>\n",
       "      <td>...</td>\n",
       "      <td>...</td>\n",
       "      <td>...</td>\n",
       "      <td>...</td>\n",
       "      <td>...</td>\n",
       "      <td>...</td>\n",
       "      <td>...</td>\n",
       "      <td>...</td>\n",
       "      <td>...</td>\n",
       "      <td>...</td>\n",
       "      <td>...</td>\n",
       "      <td>...</td>\n",
       "      <td>...</td>\n",
       "      <td>...</td>\n",
       "    </tr>\n",
       "    <tr>\n",
       "      <th>79994</th>\n",
       "      <td>1693.157180</td>\n",
       "      <td>16780.78702</td>\n",
       "      <td>A</td>\n",
       "      <td>Y</td>\n",
       "      <td>0</td>\n",
       "      <td>0.215657</td>\n",
       "      <td>194.759062</td>\n",
       "      <td>6.210195</td>\n",
       "      <td>600.748132</td>\n",
       "      <td>3398.042233</td>\n",
       "      <td>0</td>\n",
       "      <td>1</td>\n",
       "      <td>0</td>\n",
       "      <td>1</td>\n",
       "      <td>0</td>\n",
       "    </tr>\n",
       "    <tr>\n",
       "      <th>79996</th>\n",
       "      <td>1923.617480</td>\n",
       "      <td>14910.36890</td>\n",
       "      <td>B</td>\n",
       "      <td>Y</td>\n",
       "      <td>0</td>\n",
       "      <td>0.201837</td>\n",
       "      <td>186.252458</td>\n",
       "      <td>15.425841</td>\n",
       "      <td>600.855069</td>\n",
       "      <td>3509.388221</td>\n",
       "      <td>0</td>\n",
       "      <td>1</td>\n",
       "      <td>0</td>\n",
       "      <td>0</td>\n",
       "      <td>1</td>\n",
       "    </tr>\n",
       "    <tr>\n",
       "      <th>79997</th>\n",
       "      <td>1711.147154</td>\n",
       "      <td>15962.25945</td>\n",
       "      <td>A</td>\n",
       "      <td>Y</td>\n",
       "      <td>1</td>\n",
       "      <td>0.226396</td>\n",
       "      <td>196.098150</td>\n",
       "      <td>8.161353</td>\n",
       "      <td>601.360722</td>\n",
       "      <td>3406.734018</td>\n",
       "      <td>0</td>\n",
       "      <td>1</td>\n",
       "      <td>0</td>\n",
       "      <td>1</td>\n",
       "      <td>0</td>\n",
       "    </tr>\n",
       "    <tr>\n",
       "      <th>79998</th>\n",
       "      <td>1673.822523</td>\n",
       "      <td>15525.27413</td>\n",
       "      <td>B</td>\n",
       "      <td>Z</td>\n",
       "      <td>0</td>\n",
       "      <td>0.101090</td>\n",
       "      <td>186.390184</td>\n",
       "      <td>3.381393</td>\n",
       "      <td>596.750750</td>\n",
       "      <td>3388.700770</td>\n",
       "      <td>0</td>\n",
       "      <td>0</td>\n",
       "      <td>1</td>\n",
       "      <td>0</td>\n",
       "      <td>1</td>\n",
       "    </tr>\n",
       "    <tr>\n",
       "      <th>79999</th>\n",
       "      <td>1486.290579</td>\n",
       "      <td>16207.20250</td>\n",
       "      <td>A</td>\n",
       "      <td>Z</td>\n",
       "      <td>0</td>\n",
       "      <td>0.187832</td>\n",
       "      <td>182.131337</td>\n",
       "      <td>-9999.000000</td>\n",
       "      <td>597.251640</td>\n",
       "      <td>3298.095348</td>\n",
       "      <td>0</td>\n",
       "      <td>0</td>\n",
       "      <td>1</td>\n",
       "      <td>1</td>\n",
       "      <td>0</td>\n",
       "    </tr>\n",
       "  </tbody>\n",
       "</table>\n",
       "<p>72429 rows × 15 columns</p>\n",
       "</div>"
      ],
      "text/plain": [
       "           Expense       Income Loan type Occupation type  Age       Score1  \\\n",
       "0      1830.943788  14767.28013         B               Y    1     0.016885   \n",
       "1      1645.302546  15272.26775         B               Y    0     0.240375   \n",
       "2      1555.026392  17482.49734         A               Y    0     0.213921   \n",
       "3      1681.222341  16257.66493         A               Y    0     0.303909   \n",
       "4      1777.648916  16316.29914         B               X    1 -9999.000000   \n",
       "...            ...          ...       ...             ...  ...          ...   \n",
       "79994  1693.157180  16780.78702         A               Y    0     0.215657   \n",
       "79996  1923.617480  14910.36890         B               Y    0     0.201837   \n",
       "79997  1711.147154  15962.25945         A               Y    1     0.226396   \n",
       "79998  1673.822523  15525.27413         B               Z    0     0.101090   \n",
       "79999  1486.290579  16207.20250         A               Z    0     0.187832   \n",
       "\n",
       "           Score2       Score3      Score4       Score5  Occupation_X  \\\n",
       "0      205.196182    22.521523  600.911200  3464.613291             0   \n",
       "1      194.266317     5.349117  600.888816  3374.921455             0   \n",
       "2      183.529871    -1.054954  598.596944  3331.304886             0   \n",
       "3      191.228965     6.971750  602.447203  3392.275849             0   \n",
       "4      224.074728    11.218489  605.947340  3438.864083             1   \n",
       "...           ...          ...         ...          ...           ...   \n",
       "79994  194.759062     6.210195  600.748132  3398.042233             0   \n",
       "79996  186.252458    15.425841  600.855069  3509.388221             0   \n",
       "79997  196.098150     8.161353  601.360722  3406.734018             0   \n",
       "79998  186.390184     3.381393  596.750750  3388.700770             0   \n",
       "79999  182.131337 -9999.000000  597.251640  3298.095348             0   \n",
       "\n",
       "       Occupation_Y  Occupation_Z  Loan_A  Loan_B  \n",
       "0                 1             0       0       1  \n",
       "1                 1             0       0       1  \n",
       "2                 1             0       1       0  \n",
       "3                 1             0       1       0  \n",
       "4                 0             0       0       1  \n",
       "...             ...           ...     ...     ...  \n",
       "79994             1             0       1       0  \n",
       "79996             1             0       0       1  \n",
       "79997             1             0       1       0  \n",
       "79998             0             1       0       1  \n",
       "79999             0             1       1       0  \n",
       "\n",
       "[72429 rows x 15 columns]"
      ]
     },
     "execution_count": 116,
     "metadata": {},
     "output_type": "execute_result"
    }
   ],
   "source": [
    "x"
   ]
  },
  {
   "cell_type": "code",
   "execution_count": 138,
   "metadata": {},
   "outputs": [],
   "source": [
    "x.drop(['Occupation type','Loan type'], axis = 1,inplace=True)\n",
    "x.drop(['ID'], axis = 1,inplace=True)"
   ]
  },
  {
   "cell_type": "code",
   "execution_count": 118,
   "metadata": {},
   "outputs": [],
   "source": [
    "X_train, X_test, y_train, y_test = train_test_split(x, y, test_size=0.2, random_state=7)"
   ]
  },
  {
   "cell_type": "code",
   "execution_count": null,
   "metadata": {
    "scrolled": false
   },
   "outputs": [],
   "source": [
    "model = RandomForestClassifier()\n",
    "model.fit(X_train,y_train)\n",
    "y_pred=model.predict(X_test)\n",
    "\n",
    "from sklearn.metrics import classification_report, confusion_matrix\n",
    "print(confusion_matrix(y_test, y_pred))\n",
    "print(classification_report(y_test, y_pred))"
   ]
  },
  {
   "cell_type": "code",
   "execution_count": null,
   "metadata": {},
   "outputs": [],
   "source": [
    "y_probab = model.predict_proba(X_test)[::,-1]\n",
    "print(confusion_matrix((y_probab>0.23).astype(int),y_test))\n",
    "print(classification_report((y_probab>0.23).astype(int),y_test))"
   ]
  },
  {
   "cell_type": "code",
   "execution_count": 99,
   "metadata": {},
   "outputs": [
    {
     "name": "stdout",
     "output_type": "stream",
     "text": [
      "[LightGBM] [Warning] Accuracy may be bad since you didn't explicitly set num_leaves OR 2^max_depth > num_leaves. (num_leaves=31).\n",
      "[[14148    55]\n",
      " [  217   800]]\n",
      "              precision    recall  f1-score   support\n",
      "\n",
      "         0.0       0.98      1.00      0.99     14203\n",
      "         1.0       0.94      0.79      0.85      1017\n",
      "\n",
      "    accuracy                           0.98     15220\n",
      "   macro avg       0.96      0.89      0.92     15220\n",
      "weighted avg       0.98      0.98      0.98     15220\n",
      "\n"
     ]
    }
   ],
   "source": [
    "from sklearn.metrics import classification_report, confusion_matrix\n",
    "import lightgbm as lgb\n",
    "\n",
    "clf = lgb.LGBMClassifier(n_estimators=300,max_depth=20,learning_rate=0.1,alpha=10)\n",
    "clf.fit(X_train, y_train)\n",
    "y_pred=clf.predict(X_test)\n",
    "print(confusion_matrix(y_test, y_pred))\n",
    "print(classification_report(y_test, y_pred))"
   ]
  },
  {
   "cell_type": "code",
   "execution_count": 119,
   "metadata": {},
   "outputs": [
    {
     "name": "stdout",
     "output_type": "stream",
     "text": [
      "[[13463    57]\n",
      " [  205   761]]\n",
      "              precision    recall  f1-score   support\n",
      "\n",
      "         0.0       1.00      0.99      0.99     13668\n",
      "         1.0       0.79      0.93      0.85       818\n",
      "\n",
      "    accuracy                           0.98     14486\n",
      "   macro avg       0.89      0.96      0.92     14486\n",
      "weighted avg       0.98      0.98      0.98     14486\n",
      "\n"
     ]
    }
   ],
   "source": [
    "from xgboost import XGBClassifier\n",
    "clf = XGBClassifier(n_estimators=300,max_depth=20,learning_rate=0.1,alpha=10)\n",
    "# model = LGBMClassifier(**params)\n",
    "clf.fit(X_train,y_train)\n",
    "y_pred=clf.predict(X_test)\n",
    "print(confusion_matrix(y_test, y_pred))\n",
    "print(classification_report(y_pred,y_test))"
   ]
  },
  {
   "cell_type": "code",
   "execution_count": 122,
   "metadata": {},
   "outputs": [
    {
     "name": "stdout",
     "output_type": "stream",
     "text": [
      "[[13442   187]\n",
      " [   78   779]]\n",
      "              precision    recall  f1-score   support\n",
      "\n",
      "           0       0.99      0.99      0.99     13629\n",
      "           1       0.81      0.91      0.85       857\n",
      "\n",
      "    accuracy                           0.98     14486\n",
      "   macro avg       0.90      0.95      0.92     14486\n",
      "weighted avg       0.98      0.98      0.98     14486\n",
      "\n"
     ]
    }
   ],
   "source": [
    "from sklearn.metrics import classification_report, confusion_matrix\n",
    "y_probab = clf.predict_proba(X_test)[::,-1]\n",
    "print(confusion_matrix((y_probab>0.35).astype(int),y_test))\n",
    "print(classification_report((y_probab>0.35).astype(int),y_test))"
   ]
  },
  {
   "cell_type": "code",
   "execution_count": null,
   "metadata": {},
   "outputs": [],
   "source": [
    "X_train"
   ]
  },
  {
   "cell_type": "markdown",
   "metadata": {},
   "source": [
    "## Feature Importance"
   ]
  },
  {
   "cell_type": "code",
   "execution_count": 196,
   "metadata": {},
   "outputs": [
    {
     "data": {
      "image/png": "[encoded data removed]",
      "text/plain": [
       "<Figure size 432x288 with 1 Axes>"
      ]
     },
     "metadata": {
      "needs_background": "light"
     },
     "output_type": "display_data"
    }
   ],
   "source": [
    "feat = X_train.columns\n",
    "imp = clf.feature_importances_\n",
    "indices = np.argsort(imp)\n",
    "\n",
    "plt.barh(range(len(indices)), imp[indices], color='red')\n",
    "plt.yticks(range(len(indices)), [feat[i] for i in indices])\n",
    "plt.xlabel('Relative Importance')\n",
    "plt.show()"
   ]
  },
  {
   "cell_type": "markdown",
   "metadata": {},
   "source": [
    "# K-Fold and randomizedsearchcv"
   ]
  },
  {
   "cell_type": "code",
   "execution_count": null,
   "metadata": {},
   "outputs": [],
   "source": [
    "dtrain = lgbm.Dataset(data=X_train[features], label=X_train[target_name], feature_name=features)\n",
    "dval = lgbm.Dataset(data=X_val[features], label=X_val[target_name], feature_name=features)\n",
    "model = lgbm.train(\n",
    "    params=params,\n",
    "    train_set=dtrain,\n",
    "    num_boost_round=other_params[\"num_boost_round\"],\n",
    "    valid_sets=(dtrain, dval),\n",
    "    early_stopping_rounds=other_params[\"early_stopping_rounds\"],\n",
    "    verbose_eval=other_params[\"verbose_eval\"],\n",
    ")        \n",
    "    \n",
    "best_iteration = model.best_iteration\n",
    "train_pred=model.predict(X_train[features], num_iteration=best_iteration)\n",
    "validation_pred=model.predict(X_val[features], num_iteration=best_iteration)\n",
    "test_pred=model.predict(X_test[features], num_iteration=best_iteration)"
   ]
  },
  {
   "cell_type": "code",
   "execution_count": 139,
   "metadata": {},
   "outputs": [
    {
     "name": "stdout",
     "output_type": "stream",
     "text": [
      "Fitting 5 folds for each of 25 candidates, totalling 125 fits\n"
     ]
    },
    {
     "name": "stderr",
     "output_type": "stream",
     "text": [
      "[Parallel(n_jobs=-1)]: Using backend LokyBackend with 8 concurrent workers.\n",
      "[Parallel(n_jobs=-1)]: Done  16 tasks      | elapsed:  1.8min\n",
      "[Parallel(n_jobs=-1)]: Done 125 out of 125 | elapsed: 18.4min finished\n"
     ]
    },
    {
     "name": "stdout",
     "output_type": "stream",
     "text": [
      "Fitting 5 folds for each of 25 candidates, totalling 125 fits\n"
     ]
    },
    {
     "name": "stderr",
     "output_type": "stream",
     "text": [
      "[Parallel(n_jobs=-1)]: Using backend LokyBackend with 8 concurrent workers.\n",
      "[Parallel(n_jobs=-1)]: Done  16 tasks      | elapsed:  2.9min\n",
      "[Parallel(n_jobs=-1)]: Done 125 out of 125 | elapsed: 11.5min finished\n"
     ]
    },
    {
     "name": "stdout",
     "output_type": "stream",
     "text": [
      "Fitting 5 folds for each of 25 candidates, totalling 125 fits\n"
     ]
    },
    {
     "name": "stderr",
     "output_type": "stream",
     "text": [
      "[Parallel(n_jobs=-1)]: Using backend LokyBackend with 8 concurrent workers.\n",
      "[Parallel(n_jobs=-1)]: Done  16 tasks      | elapsed:  1.5min\n",
      "[Parallel(n_jobs=-1)]: Done 125 out of 125 | elapsed:  8.1min finished\n"
     ]
    },
    {
     "name": "stdout",
     "output_type": "stream",
     "text": [
      "Fitting 5 folds for each of 25 candidates, totalling 125 fits\n"
     ]
    },
    {
     "name": "stderr",
     "output_type": "stream",
     "text": [
      "[Parallel(n_jobs=-1)]: Using backend LokyBackend with 8 concurrent workers.\n",
      "[Parallel(n_jobs=-1)]: Done  16 tasks      | elapsed:  1.5min\n",
      "[Parallel(n_jobs=-1)]: Done 125 out of 125 | elapsed:  8.9min finished\n"
     ]
    },
    {
     "name": "stdout",
     "output_type": "stream",
     "text": [
      "Fitting 5 folds for each of 25 candidates, totalling 125 fits\n"
     ]
    },
    {
     "name": "stderr",
     "output_type": "stream",
     "text": [
      "[Parallel(n_jobs=-1)]: Using backend LokyBackend with 8 concurrent workers.\n",
      "[Parallel(n_jobs=-1)]: Done  16 tasks      | elapsed:  1.4min\n",
      "[Parallel(n_jobs=-1)]: Done 125 out of 125 | elapsed: 11.0min finished\n"
     ]
    }
   ],
   "source": [
    "from scipy import stats\n",
    "from xgboost import XGBClassifier\n",
    "from sklearn.model_selection import RandomizedSearchCV, KFold\n",
    "from sklearn.metrics import f1_score\n",
    "\n",
    "clf_xgb = XGBClassifier()\n",
    "param_dist = {'n_estimators': stats.randint(150, 500),\n",
    "              'learning_rate': stats.uniform(0.01, 0.07),\n",
    "              'subsample': stats.uniform(0.3, 0.7),\n",
    "              'max_depth': [3, 4, 5, 6, 7, 8, 9],\n",
    "              'colsample_bytree': stats.uniform(0.5, 0.45),\n",
    "              'min_child_weight': [1, 2, 3]\n",
    "             }\n",
    "clf = RandomizedSearchCV(clf_xgb, param_distributions = param_dist, n_iter = 25, scoring = 'f1', error_score = 0, verbose = 3, n_jobs = -1)\n",
    "\n",
    "numFolds = 5\n",
    "folds = KFold(n_splits = numFolds, shuffle = True)\n",
    "\n",
    "estimators = []\n",
    "results = np.zeros(len(X))\n",
    "score = 0.0\n",
    "for train_index, test_index in folds.split(x):\n",
    "    X_train, X_test = x.iloc[train_index,:], x.iloc[test_index,:]\n",
    "    y_train, y_test = y.iloc[train_index].values.ravel(), y.iloc[test_index].values.ravel()\n",
    "    clf.fit(X_train, y_train)\n",
    "\n",
    "    estimators.append(clf.best_estimator_)\n",
    "    results[test_index] = clf.predict(X_test)\n",
    "    score += f1_score(y_test, results[test_index])\n",
    "score /= numFolds"
   ]
  },
  {
   "cell_type": "code",
   "execution_count": 142,
   "metadata": {},
   "outputs": [
    {
     "name": "stdout",
     "output_type": "stream",
     "text": [
      "[[13457    31]\n",
      " [  131   866]]\n",
      "              precision    recall  f1-score   support\n",
      "\n",
      "         0.0       1.00      0.99      0.99     13588\n",
      "         1.0       0.87      0.97      0.91       897\n",
      "\n",
      "    accuracy                           0.99     14485\n",
      "   macro avg       0.93      0.98      0.95     14485\n",
      "weighted avg       0.99      0.99      0.99     14485\n",
      "\n",
      "[[13452    36]\n",
      " [  142   855]]\n",
      "              precision    recall  f1-score   support\n",
      "\n",
      "         0.0       1.00      0.99      0.99     13594\n",
      "         1.0       0.86      0.96      0.91       891\n",
      "\n",
      "    accuracy                           0.99     14485\n",
      "   macro avg       0.93      0.97      0.95     14485\n",
      "weighted avg       0.99      0.99      0.99     14485\n",
      "\n",
      "[[13450    38]\n",
      " [  160   837]]\n",
      "              precision    recall  f1-score   support\n",
      "\n",
      "         0.0       1.00      0.99      0.99     13610\n",
      "         1.0       0.84      0.96      0.89       875\n",
      "\n",
      "    accuracy                           0.99     14485\n",
      "   macro avg       0.92      0.97      0.94     14485\n",
      "weighted avg       0.99      0.99      0.99     14485\n",
      "\n",
      "[[13469    19]\n",
      " [   65   932]]\n",
      "              precision    recall  f1-score   support\n",
      "\n",
      "         0.0       1.00      1.00      1.00     13534\n",
      "         1.0       0.93      0.98      0.96       951\n",
      "\n",
      "    accuracy                           0.99     14485\n",
      "   macro avg       0.97      0.99      0.98     14485\n",
      "weighted avg       0.99      0.99      0.99     14485\n",
      "\n",
      "[[13420    68]\n",
      " [  214   783]]\n",
      "              precision    recall  f1-score   support\n",
      "\n",
      "         0.0       0.99      0.98      0.99     13634\n",
      "         1.0       0.79      0.92      0.85       851\n",
      "\n",
      "    accuracy                           0.98     14485\n",
      "   macro avg       0.89      0.95      0.92     14485\n",
      "weighted avg       0.98      0.98      0.98     14485\n",
      "\n"
     ]
    }
   ],
   "source": [
    "for clf in estimators:\n",
    "    y_pred=clf.predict(X_test)\n",
    "    print(confusion_matrix(y_test, y_pred))\n",
    "    print(classification_report(y_pred,y_test))\n",
    "    "
   ]
  },
  {
   "cell_type": "code",
   "execution_count": 202,
   "metadata": {},
   "outputs": [
    {
     "name": "stdout",
     "output_type": "stream",
     "text": [
      "[[13469    19]\n",
      " [   65   932]]\n"
     ]
    },
    {
     "data": {
      "image/png": "[encoded data removed]",
      "text/plain": [
       "<Figure size 432x288 with 2 Axes>"
      ]
     },
     "metadata": {
      "needs_background": "light"
     },
     "output_type": "display_data"
    },
    {
     "name": "stdout",
     "output_type": "stream",
     "text": [
      "              precision    recall  f1-score   support\n",
      "\n",
      "         0.0       1.00      1.00      1.00     13534\n",
      "         1.0       0.93      0.98      0.96       951\n",
      "\n",
      "    accuracy                           0.99     14485\n",
      "   macro avg       0.97      0.99      0.98     14485\n",
      "weighted avg       0.99      0.99      0.99     14485\n",
      "\n"
     ]
    }
   ],
   "source": [
    "clf=estimators[3]\n",
    "y_pred=clf.predict(X_test)\n",
    "from sklearn.metrics import plot_confusion_matrix\n",
    "print(confusion_matrix(y_test, y_pred))\n",
    "plot_confusion_matrix(clf, X_test, y_test)  \n",
    "plt.show()  \n",
    "print(classification_report(y_pred,y_test))"
   ]
  },
  {
   "cell_type": "markdown",
   "metadata": {},
   "source": [
    "## Estimator[3] is giving the best performance so we select this "
   ]
  },
  {
   "cell_type": "markdown",
   "metadata": {},
   "source": [
    "# Submission"
   ]
  },
  {
   "cell_type": "code",
   "execution_count": 187,
   "metadata": {},
   "outputs": [],
   "source": [
    "test=pd.read_csv('test_x.csv')"
   ]
  },
  {
   "cell_type": "code",
   "execution_count": 180,
   "metadata": {},
   "outputs": [
    {
     "data": {
      "text/html": [
       "<div>\n",
       "<style scoped>\n",
       "    .dataframe tbody tr th:only-of-type {\n",
       "        vertical-align: middle;\n",
       "    }\n",
       "\n",
       "    .dataframe tbody tr th {\n",
       "        vertical-align: top;\n",
       "    }\n",
       "\n",
       "    .dataframe thead th {\n",
       "        text-align: right;\n",
       "    }\n",
       "</style>\n",
       "<table border=\"1\" class=\"dataframe\">\n",
       "  <thead>\n",
       "    <tr style=\"text-align: right;\">\n",
       "      <th></th>\n",
       "      <th>ID_Test</th>\n",
       "      <th>Expense</th>\n",
       "      <th>Income</th>\n",
       "      <th>Loan type</th>\n",
       "      <th>Occupation type</th>\n",
       "      <th>Age</th>\n",
       "      <th>Score1</th>\n",
       "      <th>Score2</th>\n",
       "      <th>Score3</th>\n",
       "      <th>Score4</th>\n",
       "      <th>Score5</th>\n",
       "    </tr>\n",
       "  </thead>\n",
       "  <tbody>\n",
       "    <tr>\n",
       "      <th>0</th>\n",
       "      <td>1</td>\n",
       "      <td>1780.356350</td>\n",
       "      <td>16691.51975</td>\n",
       "      <td>B</td>\n",
       "      <td>X</td>\n",
       "      <td>1</td>\n",
       "      <td>0.348808</td>\n",
       "      <td>226.896383</td>\n",
       "      <td>12.506668</td>\n",
       "      <td>607.396052</td>\n",
       "      <td>3440.172169</td>\n",
       "    </tr>\n",
       "    <tr>\n",
       "      <th>1</th>\n",
       "      <td>2</td>\n",
       "      <td>1939.547945</td>\n",
       "      <td>14782.20015</td>\n",
       "      <td>A</td>\n",
       "      <td>Z</td>\n",
       "      <td>0</td>\n",
       "      <td>0.426270</td>\n",
       "      <td>125.046903</td>\n",
       "      <td>12.976712</td>\n",
       "      <td>599.808710</td>\n",
       "      <td>3517.084962</td>\n",
       "    </tr>\n",
       "    <tr>\n",
       "      <th>2</th>\n",
       "      <td>3</td>\n",
       "      <td>1721.876977</td>\n",
       "      <td>14035.40923</td>\n",
       "      <td>B</td>\n",
       "      <td>Z</td>\n",
       "      <td>0</td>\n",
       "      <td>0.097577</td>\n",
       "      <td>181.636946</td>\n",
       "      <td>5.501962</td>\n",
       "      <td>596.344664</td>\n",
       "      <td>3411.918090</td>\n",
       "    </tr>\n",
       "    <tr>\n",
       "      <th>3</th>\n",
       "      <td>4</td>\n",
       "      <td>1681.268538</td>\n",
       "      <td>15179.79116</td>\n",
       "      <td>A</td>\n",
       "      <td>Z</td>\n",
       "      <td>0</td>\n",
       "      <td>0.295460</td>\n",
       "      <td>151.320572</td>\n",
       "      <td>3.058352</td>\n",
       "      <td>597.761361</td>\n",
       "      <td>3392.298282</td>\n",
       "    </tr>\n",
       "    <tr>\n",
       "      <th>4</th>\n",
       "      <td>5</td>\n",
       "      <td>1654.495928</td>\n",
       "      <td>15187.09603</td>\n",
       "      <td>A</td>\n",
       "      <td>Y</td>\n",
       "      <td>0</td>\n",
       "      <td>0.272479</td>\n",
       "      <td>178.429450</td>\n",
       "      <td>4.571414</td>\n",
       "      <td>600.006307</td>\n",
       "      <td>3379.363201</td>\n",
       "    </tr>\n",
       "    <tr>\n",
       "      <th>...</th>\n",
       "      <td>...</td>\n",
       "      <td>...</td>\n",
       "      <td>...</td>\n",
       "      <td>...</td>\n",
       "      <td>...</td>\n",
       "      <td>...</td>\n",
       "      <td>...</td>\n",
       "      <td>...</td>\n",
       "      <td>...</td>\n",
       "      <td>...</td>\n",
       "      <td>...</td>\n",
       "    </tr>\n",
       "    <tr>\n",
       "      <th>19995</th>\n",
       "      <td>19996</td>\n",
       "      <td>1706.038470</td>\n",
       "      <td>15388.07701</td>\n",
       "      <td>B</td>\n",
       "      <td>Z</td>\n",
       "      <td>0</td>\n",
       "      <td>0.080845</td>\n",
       "      <td>192.079189</td>\n",
       "      <td>1.100830</td>\n",
       "      <td>595.979156</td>\n",
       "      <td>3404.265778</td>\n",
       "    </tr>\n",
       "    <tr>\n",
       "      <th>19996</th>\n",
       "      <td>19997</td>\n",
       "      <td>1712.503287</td>\n",
       "      <td>17979.80449</td>\n",
       "      <td>B</td>\n",
       "      <td>X</td>\n",
       "      <td>1</td>\n",
       "      <td>-0.025641</td>\n",
       "      <td>228.686449</td>\n",
       "      <td>11.394893</td>\n",
       "      <td>600.071790</td>\n",
       "      <td>3407.389229</td>\n",
       "    </tr>\n",
       "    <tr>\n",
       "      <th>19997</th>\n",
       "      <td>19998</td>\n",
       "      <td>1873.089949</td>\n",
       "      <td>17804.74995</td>\n",
       "      <td>B</td>\n",
       "      <td>Y</td>\n",
       "      <td>1</td>\n",
       "      <td>0.068247</td>\n",
       "      <td>236.021469</td>\n",
       "      <td>4.680945</td>\n",
       "      <td>599.961820</td>\n",
       "      <td>3484.976043</td>\n",
       "    </tr>\n",
       "    <tr>\n",
       "      <th>19998</th>\n",
       "      <td>19999</td>\n",
       "      <td>1740.115898</td>\n",
       "      <td>17071.77542</td>\n",
       "      <td>B</td>\n",
       "      <td>X</td>\n",
       "      <td>1</td>\n",
       "      <td>0.032874</td>\n",
       "      <td>231.595185</td>\n",
       "      <td>12.147134</td>\n",
       "      <td>601.404096</td>\n",
       "      <td>3420.730153</td>\n",
       "    </tr>\n",
       "    <tr>\n",
       "      <th>19999</th>\n",
       "      <td>20000</td>\n",
       "      <td>1745.568304</td>\n",
       "      <td>17829.58014</td>\n",
       "      <td>B</td>\n",
       "      <td>X</td>\n",
       "      <td>1</td>\n",
       "      <td>0.111849</td>\n",
       "      <td>235.997872</td>\n",
       "      <td>10.685546</td>\n",
       "      <td>603.121777</td>\n",
       "      <td>3423.364462</td>\n",
       "    </tr>\n",
       "  </tbody>\n",
       "</table>\n",
       "<p>20000 rows × 11 columns</p>\n",
       "</div>"
      ],
      "text/plain": [
       "       ID_Test      Expense       Income Loan type Occupation type  Age  \\\n",
       "0            1  1780.356350  16691.51975         B               X    1   \n",
       "1            2  1939.547945  14782.20015         A               Z    0   \n",
       "2            3  1721.876977  14035.40923         B               Z    0   \n",
       "3            4  1681.268538  15179.79116         A               Z    0   \n",
       "4            5  1654.495928  15187.09603         A               Y    0   \n",
       "...        ...          ...          ...       ...             ...  ...   \n",
       "19995    19996  1706.038470  15388.07701         B               Z    0   \n",
       "19996    19997  1712.503287  17979.80449         B               X    1   \n",
       "19997    19998  1873.089949  17804.74995         B               Y    1   \n",
       "19998    19999  1740.115898  17071.77542         B               X    1   \n",
       "19999    20000  1745.568304  17829.58014         B               X    1   \n",
       "\n",
       "         Score1      Score2     Score3      Score4       Score5  \n",
       "0      0.348808  226.896383  12.506668  607.396052  3440.172169  \n",
       "1      0.426270  125.046903  12.976712  599.808710  3517.084962  \n",
       "2      0.097577  181.636946   5.501962  596.344664  3411.918090  \n",
       "3      0.295460  151.320572   3.058352  597.761361  3392.298282  \n",
       "4      0.272479  178.429450   4.571414  600.006307  3379.363201  \n",
       "...         ...         ...        ...         ...          ...  \n",
       "19995  0.080845  192.079189   1.100830  595.979156  3404.265778  \n",
       "19996 -0.025641  228.686449  11.394893  600.071790  3407.389229  \n",
       "19997  0.068247  236.021469   4.680945  599.961820  3484.976043  \n",
       "19998  0.032874  231.595185  12.147134  601.404096  3420.730153  \n",
       "19999  0.111849  235.997872  10.685546  603.121777  3423.364462  \n",
       "\n",
       "[20000 rows x 11 columns]"
      ]
     },
     "execution_count": 180,
     "metadata": {},
     "output_type": "execute_result"
    }
   ],
   "source": [
    "test"
   ]
  },
  {
   "cell_type": "code",
   "execution_count": 188,
   "metadata": {},
   "outputs": [],
   "source": [
    "df2=pd.get_dummies(test['Occupation type'], prefix='Occupation')\n",
    "df3=pd.get_dummies(test['Loan type'], prefix='Loan')\n",
    "test = pd.concat([test,df2,df3],axis=1)"
   ]
  },
  {
   "cell_type": "code",
   "execution_count": 189,
   "metadata": {},
   "outputs": [],
   "source": [
    "test.drop(['Loan type','Occupation type'],axis=1,inplace=True)"
   ]
  },
  {
   "cell_type": "code",
   "execution_count": 190,
   "metadata": {},
   "outputs": [],
   "source": [
    "test.drop(['ID_Test'],axis=1,inplace=True)"
   ]
  },
  {
   "cell_type": "code",
   "execution_count": 191,
   "metadata": {},
   "outputs": [],
   "source": [
    "pred_y=clf.predict(test)"
   ]
  },
  {
   "cell_type": "code",
   "execution_count": 155,
   "metadata": {},
   "outputs": [
    {
     "data": {
      "text/plain": [
       "array([0., 0., 0., ..., 1., 1., 0.])"
      ]
     },
     "execution_count": 155,
     "metadata": {},
     "output_type": "execute_result"
    }
   ],
   "source": [
    "pred_y"
   ]
  },
  {
   "cell_type": "code",
   "execution_count": 192,
   "metadata": {},
   "outputs": [],
   "source": [
    "tes=pd.read_csv('test_x.csv')\n",
    "submi=pd.DataFrame()\n",
    "submi['ID_Test']=tes['ID_Test'].copy()\n"
   ]
  },
  {
   "cell_type": "code",
   "execution_count": 193,
   "metadata": {},
   "outputs": [],
   "source": [
    "submi['Label']=pred_y"
   ]
  },
  {
   "cell_type": "code",
   "execution_count": 194,
   "metadata": {},
   "outputs": [],
   "source": [
    "submi.to_csv('pred_y_.csv')"
   ]
  },
  {
   "cell_type": "code",
   "execution_count": 200,
   "metadata": {},
   "outputs": [],
   "source": [
    "clf.save_model('Model/model_xgb.json')"
   ]
  }
 ],
 "metadata": {
  "kernelspec": {
   "display_name": "Python 3",
   "language": "python",
   "name": "python3"
  },
  "language_info": {
   "codemirror_mode": {
    "name": "ipython",
    "version": 3
   },
   "file_extension": ".py",
   "mimetype": "text/x-python",
   "name": "python",
   "nbconvert_exporter": "python",
   "pygments_lexer": "ipython3",
   "version": "3.7.7"
  }
 },
 "nbformat": 4,
 "nbformat_minor": 4
}
